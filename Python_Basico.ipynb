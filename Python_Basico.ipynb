{
  "nbformat": 4,
  "nbformat_minor": 0,
  "metadata": {
    "colab": {
      "name": "Python Basico.ipynb",
      "provenance": [],
      "collapsed_sections": [],
      "toc_visible": true,
      "authorship_tag": "ABX9TyPg7baaAS42IgSaewzsCyxb",
      "include_colab_link": true
    },
    "kernelspec": {
      "name": "python3",
      "display_name": "Python 3"
    },
    "language_info": {
      "name": "python"
    }
  },
  "cells": [
    {
      "cell_type": "markdown",
      "metadata": {
        "id": "view-in-github",
        "colab_type": "text"
      },
      "source": [
        "<a href=\"https://colab.research.google.com/github/alexandretannus/data-science-dio/blob/main/Python_Basico.ipynb\" target=\"_parent\"><img src=\"https://colab.research.google.com/assets/colab-badge.svg\" alt=\"Open In Colab\"/></a>"
      ]
    },
    {
      "cell_type": "markdown",
      "metadata": {
        "id": "rpPifPMNVZAC"
      },
      "source": [
        "# Laços de Repetição\n"
      ]
    },
    {
      "cell_type": "markdown",
      "metadata": {
        "id": "QSHYdnMsWHW_"
      },
      "source": [
        "## Range"
      ]
    },
    {
      "cell_type": "code",
      "metadata": {
        "id": "2FL4PL0iVU4c"
      },
      "source": [
        "for x in range(100):\n",
        "    print(x)"
      ],
      "execution_count": null,
      "outputs": []
    },
    {
      "cell_type": "code",
      "metadata": {
        "id": "fFzhldGBWYv4"
      },
      "source": [
        "# número primo\n",
        "a = int(input('Entre com um número: '))\n",
        "\n",
        "div = 0\n",
        "for x in range(1, a+1):\n",
        "    resto = a % x\n",
        "    if resto == 0:\n",
        "        div += 1\n",
        "\n",
        "if div == 2:\n",
        "    print('número {} é primo'.format(a))\n",
        "else:\n",
        "    print('número {} não é primo'.format(a))"
      ],
      "execution_count": null,
      "outputs": []
    },
    {
      "cell_type": "code",
      "metadata": {
        "id": "kKndRnibXmCj"
      },
      "source": [
        "#números primos de 1 a 100\n",
        "for num in range(1, 101):\n",
        "    div = 0\n",
        "    for x in range(1, num+1):\n",
        "        resto = num % x\n",
        "        if resto == 0:\n",
        "            div += 1\n",
        "\n",
        "    if div == 2:\n",
        "        print('número {} é primo'.format(num))"
      ],
      "execution_count": null,
      "outputs": []
    },
    {
      "cell_type": "code",
      "metadata": {
        "id": "Nds846B0Yz3h"
      },
      "source": [
        "#números primos de 1 a n\n",
        "n = int(input('Entre com um número: '))\n",
        "\n",
        "for num in range(1, n+1):\n",
        "    div = 0\n",
        "    for x in range(1, num+1):\n",
        "        resto = num % x\n",
        "        if resto == 0:\n",
        "            div += 1\n",
        "\n",
        "    if div == 2:\n",
        "        print('número {} é primo'.format(num))"
      ],
      "execution_count": null,
      "outputs": []
    },
    {
      "cell_type": "markdown",
      "metadata": {
        "id": "o_1we4FhZCrX"
      },
      "source": [
        "## While"
      ]
    },
    {
      "cell_type": "code",
      "metadata": {
        "id": "kb5JnoftZI8U"
      },
      "source": [
        "a = 0\n",
        "while a < 10:\n",
        "    print(a)\n",
        "    a += 1"
      ],
      "execution_count": null,
      "outputs": []
    },
    {
      "cell_type": "code",
      "metadata": {
        "colab": {
          "base_uri": "https://localhost:8080/"
        },
        "id": "5vs9KEFfZWif",
        "outputId": "a834f516-8a05-48d6-a0c2-1fa3ebf1217b"
      },
      "source": [
        "nota = int(input('Entre com a nota: '))\n",
        "\n",
        "while nota > 10:\n",
        "    print(\"Nota inválida\")\n",
        "    nota = int(input('Entre com a nota: '))"
      ],
      "execution_count": 16,
      "outputs": [
        {
          "output_type": "stream",
          "text": [
            "Entre com a nota: 15\n",
            "Nota inválida\n",
            "Entre com a nota: 68\n",
            "Nota inválida\n",
            "Entre com a nota: 4\n"
          ],
          "name": "stdout"
        }
      ]
    },
    {
      "cell_type": "code",
      "metadata": {
        "colab": {
          "base_uri": "https://localhost:8080/"
        },
        "id": "GLCUbhWiZ9BY",
        "outputId": "58b5583b-4dcd-4368-b13f-f46f0a4e2262"
      },
      "source": [
        "resultado = 0\n",
        "for x in range(1, 10):\n",
        "    if x < 9:\n",
        "        resultado += 1\n",
        "\n",
        "print(resultado)"
      ],
      "execution_count": 17,
      "outputs": [
        {
          "output_type": "stream",
          "text": [
            "8\n"
          ],
          "name": "stdout"
        }
      ]
    },
    {
      "cell_type": "markdown",
      "metadata": {
        "id": "wttQkn_DbDsI"
      },
      "source": [
        "# Listas e tuplas"
      ]
    },
    {
      "cell_type": "markdown",
      "metadata": {
        "id": "nJzzMKzEbMsH"
      },
      "source": [
        "## Listas"
      ]
    },
    {
      "cell_type": "code",
      "metadata": {
        "id": "-sm1BP5SbKKU"
      },
      "source": [
        "lista = [1, 3, 5 , 7]\n",
        "lista_animal = ['cachorro', 'gato', 'elefante']"
      ],
      "execution_count": 35,
      "outputs": []
    },
    {
      "cell_type": "code",
      "metadata": {
        "id": "-Y2aHW1jbazP"
      },
      "source": [
        "print(lista)\n",
        "print(type(lista))"
      ],
      "execution_count": null,
      "outputs": []
    },
    {
      "cell_type": "markdown",
      "metadata": {
        "id": "kzhx4FoEbtt4"
      },
      "source": [
        "### Acessar elementos"
      ]
    },
    {
      "cell_type": "code",
      "metadata": {
        "id": "ZlPKLsMkbo-f"
      },
      "source": [
        "print(lista[0])\n",
        "print(lista_animal[2])"
      ],
      "execution_count": null,
      "outputs": []
    },
    {
      "cell_type": "markdown",
      "metadata": {
        "id": "sDsPT3ACb7Pm"
      },
      "source": [
        "### Percorrer lista"
      ]
    },
    {
      "cell_type": "code",
      "metadata": {
        "id": "-66tlTlCb63W"
      },
      "source": [
        "for x in lista_animal:\n",
        "    print(x)"
      ],
      "execution_count": null,
      "outputs": []
    },
    {
      "cell_type": "code",
      "metadata": {
        "id": "irgKjTc-b-W_"
      },
      "source": [
        "soma = 0\n",
        "for x in lista: \n",
        "    soma += x\n",
        "print(soma)"
      ],
      "execution_count": null,
      "outputs": []
    },
    {
      "cell_type": "markdown",
      "metadata": {
        "id": "BvJLQkJWdzry"
      },
      "source": [
        "### Operações"
      ]
    },
    {
      "cell_type": "code",
      "metadata": {
        "id": "5imuUY7icXy3"
      },
      "source": [
        "# Operações em listas de números\n",
        "print(sum(lista))\n",
        "print(max(lista))\n",
        "print(min(lista))"
      ],
      "execution_count": null,
      "outputs": []
    },
    {
      "cell_type": "code",
      "metadata": {
        "id": "v7Jd9u_mcix-"
      },
      "source": [
        "# operações em lista de strings\n",
        "print(max(lista_animal)) # último em ordem alfabética\n",
        "print(min(lista_animal)) # primeiro em ordem alfabética"
      ],
      "execution_count": null,
      "outputs": []
    },
    {
      "cell_type": "markdown",
      "metadata": {
        "id": "WMpOzCFUd3aw"
      },
      "source": [
        "### Verificação de existência de elemento na lista"
      ]
    },
    {
      "cell_type": "code",
      "metadata": {
        "id": "6NZ4dZunc5e0"
      },
      "source": [
        "\n",
        "animal = 'lobo'\n",
        "if animal in lista_animal:\n",
        "    print('existe um {} na lista'.format(animal))\n",
        "else:\n",
        "    print('não existe um {} na lista'.format(animal))\n",
        "    lista_animal.append(animal)\n",
        "\n",
        "print(lista_animal)"
      ],
      "execution_count": null,
      "outputs": []
    },
    {
      "cell_type": "markdown",
      "metadata": {
        "id": "msaQBcCpeNes"
      },
      "source": [
        "### Retirar elemento da lista\n"
      ]
    },
    {
      "cell_type": "code",
      "metadata": {
        "id": "8mkTkKu5eL5w"
      },
      "source": [
        "# Retira último elemento\n",
        "animais = ['cachorro', 'gato', 'elefante']\n",
        "animais.pop()\n",
        "print(animais)\n"
      ],
      "execution_count": null,
      "outputs": []
    },
    {
      "cell_type": "code",
      "metadata": {
        "id": "FeKksalSeeXf"
      },
      "source": [
        "# Retira elemento pelo índice\n",
        "animais = ['cachorro', 'gato', 'elefante']\n",
        "animais.pop(1) # retirar gato\n",
        "print(animais)"
      ],
      "execution_count": null,
      "outputs": []
    },
    {
      "cell_type": "code",
      "metadata": {
        "id": "OuynP-qFej9m"
      },
      "source": [
        "# Retira elemento pelo nome\n",
        "animais = ['cachorro', 'gato', 'elefante']\n",
        "animais.remove('cachorro') # retirar cachorro\n",
        "print(animais)\n",
        "animais.remove('elefante') # retirar elefante\n",
        "print(animais)"
      ],
      "execution_count": null,
      "outputs": []
    },
    {
      "cell_type": "markdown",
      "metadata": {
        "id": "YwfrrwRee2ze"
      },
      "source": [
        "### Ordenação"
      ]
    },
    {
      "cell_type": "code",
      "metadata": {
        "id": "3_g7qHZ0e2Fq"
      },
      "source": [
        "# Ordenação\n",
        "animais = ['cachorro', 'gato', 'elefante', 'lobo', 'arara']\n",
        "animais.sort() \n",
        "print(animais)"
      ],
      "execution_count": null,
      "outputs": []
    },
    {
      "cell_type": "code",
      "metadata": {
        "id": "VmRiQFNXfJOm"
      },
      "source": [
        "# Ordenação reversa\n",
        "animais = ['cachorro', 'gato', 'elefante', 'lobo', 'arara']\n",
        "animais.sort()\n",
        "animais.reverse()\n",
        "print(animais)"
      ],
      "execution_count": null,
      "outputs": []
    },
    {
      "cell_type": "markdown",
      "metadata": {
        "id": "QGG3I0pJf1hW"
      },
      "source": [
        "### Tamanho da lista"
      ]
    },
    {
      "cell_type": "code",
      "metadata": {
        "colab": {
          "base_uri": "https://localhost:8080/"
        },
        "id": "oMlfEOkof3ve",
        "outputId": "69055d02-2eae-486f-92fa-956b3aeedd27"
      },
      "source": [
        "print(len(lista))\n",
        "print(len(animais))"
      ],
      "execution_count": 51,
      "outputs": [
        {
          "output_type": "stream",
          "text": [
            "4\n",
            "5\n"
          ],
          "name": "stdout"
        }
      ]
    },
    {
      "cell_type": "markdown",
      "metadata": {
        "id": "BZXHa_Hcfhjw"
      },
      "source": [
        "## Tuplas"
      ]
    },
    {
      "cell_type": "code",
      "metadata": {
        "colab": {
          "base_uri": "https://localhost:8080/"
        },
        "id": "Vr6xWKAEfjt_",
        "outputId": "282c0db5-f067-41a8-f325-b6075d71ec12"
      },
      "source": [
        "tupla = (1, 10, 12, 14)\n",
        "print(tupla)"
      ],
      "execution_count": 49,
      "outputs": [
        {
          "output_type": "stream",
          "text": [
            "(1, 10, 12, 14)\n"
          ],
          "name": "stdout"
        }
      ]
    },
    {
      "cell_type": "markdown",
      "metadata": {
        "id": "mw3ChPuPgJPZ"
      },
      "source": [
        "Tuplas são imutáveis. Não é possível alterar valores em um tupla"
      ]
    },
    {
      "cell_type": "markdown",
      "metadata": {
        "id": "o59NGxIbgQEH"
      },
      "source": [
        "## Conversão lista <-> tupla"
      ]
    },
    {
      "cell_type": "code",
      "metadata": {
        "colab": {
          "base_uri": "https://localhost:8080/"
        },
        "id": "A3vfvLtYgXwW",
        "outputId": "7ee4074f-9c24-462f-ef8e-54cea7957a32"
      },
      "source": [
        "numeros = [1, 2, 9, 7, 10]\n",
        "tupla_numeros = tuple(numeros)\n",
        "print(numeros)\n",
        "print(tupla_numeros)"
      ],
      "execution_count": 52,
      "outputs": [
        {
          "output_type": "stream",
          "text": [
            "[1, 2, 9, 7, 10]\n",
            "(1, 2, 9, 7, 10)\n"
          ],
          "name": "stdout"
        }
      ]
    },
    {
      "cell_type": "code",
      "metadata": {
        "colab": {
          "base_uri": "https://localhost:8080/"
        },
        "id": "5dYVwpyzgq2u",
        "outputId": "775a390e-4419-4e01-fee5-98094b225b9d"
      },
      "source": [
        "\n",
        "tupla_animais = ('cachorro', 'gato', 'elefante', 'lobo', 'arara')\n",
        "list_animais = list(tupla_animais)\n",
        "print(tupla_animais)\n",
        "print(list_animais)"
      ],
      "execution_count": 53,
      "outputs": [
        {
          "output_type": "stream",
          "text": [
            "('cachorro', 'gato', 'elefante', 'lobo', 'arara')\n",
            "['cachorro', 'gato', 'elefante', 'lobo', 'arara']\n"
          ],
          "name": "stdout"
        }
      ]
    },
    {
      "cell_type": "markdown",
      "metadata": {
        "id": "kkULaslVJiGv"
      },
      "source": [
        "# Conjuntos e subconjuntos"
      ]
    },
    {
      "cell_type": "markdown",
      "metadata": {
        "id": "InqADWQsJ7WN"
      },
      "source": [
        "## Conjuntos"
      ]
    },
    {
      "cell_type": "markdown",
      "metadata": {
        "id": "ABzTTlIKJ-xs"
      },
      "source": [
        "### Criação"
      ]
    },
    {
      "cell_type": "code",
      "metadata": {
        "colab": {
          "base_uri": "https://localhost:8080/"
        },
        "id": "F2IsywDWJ0ZX",
        "outputId": "38beccad-fcb5-40a4-df0c-7e5acede1572"
      },
      "source": [
        "conjunto = {1, 2, 3, 4}\n",
        "print(type(conjunto))\n",
        "print(conjunto)"
      ],
      "execution_count": 21,
      "outputs": [
        {
          "output_type": "stream",
          "text": [
            "<class 'set'>\n",
            "{1, 2, 3, 4}\n"
          ],
          "name": "stdout"
        }
      ]
    },
    {
      "cell_type": "code",
      "metadata": {
        "id": "pgoh8X9DLPA1"
      },
      "source": [
        "# não permite repetição de elementos\n",
        "conjunto2 = {1, 2, 3, 4, 2, 3}\n",
        "print(conjunto2)"
      ],
      "execution_count": null,
      "outputs": []
    },
    {
      "cell_type": "markdown",
      "metadata": {
        "id": "vBu5i5raLfkb"
      },
      "source": [
        "### Adição de elementos"
      ]
    },
    {
      "cell_type": "code",
      "metadata": {
        "id": "J_KHYDTbLeGw"
      },
      "source": [
        "conjunto.add(10)\n",
        "print(conjunto)"
      ],
      "execution_count": null,
      "outputs": []
    },
    {
      "cell_type": "markdown",
      "metadata": {
        "id": "i9613alHMCxX"
      },
      "source": [
        "### Exclusão de elementos"
      ]
    },
    {
      "cell_type": "code",
      "metadata": {
        "colab": {
          "base_uri": "https://localhost:8080/"
        },
        "id": "vZF25w6jMCWM",
        "outputId": "6d3d09f0-9128-48e9-dcc3-92d3757caa38"
      },
      "source": [
        "conjunto.discard(2)\n",
        "print(conjunto)"
      ],
      "execution_count": 22,
      "outputs": [
        {
          "output_type": "stream",
          "text": [
            "{1, 3, 4}\n"
          ],
          "name": "stdout"
        }
      ]
    },
    {
      "cell_type": "markdown",
      "metadata": {
        "id": "3OhfC13iMcZ2"
      },
      "source": [
        "### União"
      ]
    },
    {
      "cell_type": "code",
      "metadata": {
        "colab": {
          "base_uri": "https://localhost:8080/"
        },
        "id": "JXTvaPq9MYqn",
        "outputId": "557f1ca6-b7d1-4b10-f916-ea09ee198249"
      },
      "source": [
        "conjunto = {1, 2, 3, 4}\n",
        "conjunto2 = {8, 9, 10, 11}\n",
        "conjunto_uniao = conjunto.union(conjunto2)\n",
        "print(conjunto_uniao)"
      ],
      "execution_count": 8,
      "outputs": [
        {
          "output_type": "stream",
          "text": [
            "{1, 2, 3, 4, 8, 9, 10, 11}\n",
            "{1, 2, 3, 4, 8, 9, 10, 11}\n"
          ],
          "name": "stdout"
        }
      ]
    },
    {
      "cell_type": "markdown",
      "metadata": {
        "id": "xZoLCntgNB0X"
      },
      "source": [
        "### Interseção"
      ]
    },
    {
      "cell_type": "code",
      "metadata": {
        "id": "d4efYQ90NEXu"
      },
      "source": [
        "conjunto = {1, 2, 3, 4, 8, 10}\n",
        "conjunto2 = {8, 9, 10, 11}\n",
        "conjunto_intersecao = conjunto.intersection(conjunto2)\n",
        "print(conjunto_intersecao)"
      ],
      "execution_count": null,
      "outputs": []
    },
    {
      "cell_type": "markdown",
      "metadata": {
        "id": "SRfG1sWTNT9H"
      },
      "source": [
        "### Diferença"
      ]
    },
    {
      "cell_type": "code",
      "metadata": {
        "id": "c5xSwZnzNWnY"
      },
      "source": [
        "conjunto = {1, 2, 3, 4, 8, 10}\n",
        "conjunto2 = {8, 9, 10, 11}\n",
        "# elementos do conjunto 1 que não estão no conjunto 2\n",
        "conjunto_diferenca = conjunto.difference(conjunto2) \n",
        "print(conjunto_diferenca)\n",
        "# elementos do conjunto 2 que não estão no conjunto 1\n",
        "conjunto_diferenca2 = conjunto2.difference(conjunto) \n",
        "print(conjunto_diferenca2)"
      ],
      "execution_count": null,
      "outputs": []
    },
    {
      "cell_type": "markdown",
      "metadata": {
        "id": "qW3hsAZQQEB2"
      },
      "source": [
        "### Diferença simétrica"
      ]
    },
    {
      "cell_type": "code",
      "metadata": {
        "colab": {
          "base_uri": "https://localhost:8080/"
        },
        "id": "sEYLSHdXQKdl",
        "outputId": "6531936f-4063-4391-c4ba-e9fb5976438c"
      },
      "source": [
        "conjunto = {1, 2, 3, 4, 8, 10}\n",
        "conjunto2 = {8, 9, 10, 11}\n",
        "conjunto_diferenca_simetrica = conjunto.symmetric_difference(conjunto2)\n",
        "print(conjunto_diferenca_simetrica)"
      ],
      "execution_count": 12,
      "outputs": [
        {
          "output_type": "stream",
          "text": [
            "{1, 2, 3, 4, 9, 11}\n"
          ],
          "name": "stdout"
        }
      ]
    },
    {
      "cell_type": "markdown",
      "metadata": {
        "id": "FLiTAR6-Q3-i"
      },
      "source": [
        "### Subconjuntos"
      ]
    },
    {
      "cell_type": "code",
      "metadata": {
        "colab": {
          "base_uri": "https://localhost:8080/"
        },
        "id": "0E_wPB0KQ9vc",
        "outputId": "7213abaa-acdf-4fc3-99e7-b01e861570bb"
      },
      "source": [
        "conjuntoA = {1, 2, 3, 4}\n",
        "conjuntoB = {2, 3}\n",
        "subsetAB = conjuntoA.issubset(conjuntoB)\n",
        "print(subsetAB)\n",
        "subsetBA = conjuntoB.issubset(conjuntoA)\n",
        "print(subsetBA)"
      ],
      "execution_count": 15,
      "outputs": [
        {
          "output_type": "stream",
          "text": [
            "False\n",
            "True\n"
          ],
          "name": "stdout"
        }
      ]
    },
    {
      "cell_type": "markdown",
      "metadata": {
        "id": "ZGgWYBN8Tq5g"
      },
      "source": [
        "### Superset"
      ]
    },
    {
      "cell_type": "code",
      "metadata": {
        "id": "fl9yJtmETthd"
      },
      "source": [
        "conjuntoA = {1, 2, 3, 4}\n",
        "conjuntoB = {2, 3}\n",
        "supersetAB = conjuntoA.issuperset(conjuntoB)\n",
        "print(supersetAB)\n",
        "supersetBA = conjuntoB.issuperset(conjuntoA)\n",
        "print(supersetBA)"
      ],
      "execution_count": null,
      "outputs": []
    },
    {
      "cell_type": "markdown",
      "metadata": {
        "id": "sDDi6MkRUMYY"
      },
      "source": [
        "### Transformação de lista em conjunto"
      ]
    },
    {
      "cell_type": "code",
      "metadata": {
        "id": "eiVlKLQ9USi0"
      },
      "source": [
        "animais = ['cachorro', 'cachorro', 'gato', 'elefante', 'lobo', 'arara']\n",
        "print(animais)\n",
        "set_animais = set(animais)\n",
        "print(set_animais)"
      ],
      "execution_count": null,
      "outputs": []
    },
    {
      "cell_type": "markdown",
      "metadata": {
        "id": "4jDwpkGZUtq9"
      },
      "source": [
        "### Transformação de conjunto em lista"
      ]
    },
    {
      "cell_type": "code",
      "metadata": {
        "colab": {
          "base_uri": "https://localhost:8080/"
        },
        "id": "fm-7h2IOUzUT",
        "outputId": "ab2dd768-5477-462f-94f3-89a201768669"
      },
      "source": [
        "setAnimais = {'cachorro', 'cachorro', 'gato', 'elefante', 'lobo', 'arara'}\n",
        "print(setAnimais)\n",
        "listAnimais = list(setAnimais)\n",
        "print(listAnimais)\n",
        "print(len(setAnimais))"
      ],
      "execution_count": 20,
      "outputs": [
        {
          "output_type": "stream",
          "text": [
            "{'cachorro', 'elefante', 'gato', 'arara', 'lobo'}\n",
            "['cachorro', 'elefante', 'gato', 'arara', 'lobo']\n",
            "5\n"
          ],
          "name": "stdout"
        }
      ]
    }
  ]
}